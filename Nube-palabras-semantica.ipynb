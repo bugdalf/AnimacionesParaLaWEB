{
  "nbformat": 4,
  "nbformat_minor": 0,
  "metadata": {
    "colab": {
      "name": "vander-NubePalabras.ipynb",
      "provenance": [],
      "collapsed_sections": [],
      "include_colab_link": true
    },
    "kernelspec": {
      "name": "python3",
      "display_name": "Python 3"
    },
    "language_info": {
      "name": "python"
    }
  },
  "cells": [
    {
      "cell_type": "markdown",
      "metadata": {
        "id": "view-in-github",
        "colab_type": "text"
      },
      "source": [
        "<a href=\"https://colab.research.google.com/github/ankynator/AnimacionesParaLaWEB/blob/master/Nube-palabras-semantica.ipynb\" target=\"_parent\"><img src=\"https://colab.research.google.com/assets/colab-badge.svg\" alt=\"Open In Colab\"/></a>"
      ]
    },
    {
      "cell_type": "code",
      "metadata": {
        "id": "JcjBJmTIfsDc",
        "colab": {
          "base_uri": "https://localhost:8080/"
        },
        "outputId": "b9946d23-e647-4b21-c880-5c62482c1ba5"
      },
      "source": [
        "!pip install wikipedia\n",
        "!python -m spacy download es_core_news_sm\n",
        "!python -m spacy download es_core_news_md"
      ],
      "execution_count": 15,
      "outputs": [
        {
          "output_type": "stream",
          "text": [
            "Requirement already satisfied: wikipedia in /usr/local/lib/python3.7/dist-packages (1.4.0)\n",
            "Requirement already satisfied: requests<3.0.0,>=2.0.0 in /usr/local/lib/python3.7/dist-packages (from wikipedia) (2.23.0)\n",
            "Requirement already satisfied: beautifulsoup4 in /usr/local/lib/python3.7/dist-packages (from wikipedia) (4.6.3)\n",
            "Requirement already satisfied: urllib3!=1.25.0,!=1.25.1,<1.26,>=1.21.1 in /usr/local/lib/python3.7/dist-packages (from requests<3.0.0,>=2.0.0->wikipedia) (1.24.3)\n",
            "Requirement already satisfied: certifi>=2017.4.17 in /usr/local/lib/python3.7/dist-packages (from requests<3.0.0,>=2.0.0->wikipedia) (2020.12.5)\n",
            "Requirement already satisfied: chardet<4,>=3.0.2 in /usr/local/lib/python3.7/dist-packages (from requests<3.0.0,>=2.0.0->wikipedia) (3.0.4)\n",
            "Requirement already satisfied: idna<3,>=2.5 in /usr/local/lib/python3.7/dist-packages (from requests<3.0.0,>=2.0.0->wikipedia) (2.10)\n",
            "Requirement already satisfied: es_core_news_sm==2.2.5 from https://github.com/explosion/spacy-models/releases/download/es_core_news_sm-2.2.5/es_core_news_sm-2.2.5.tar.gz#egg=es_core_news_sm==2.2.5 in /usr/local/lib/python3.7/dist-packages (2.2.5)\n",
            "Requirement already satisfied: spacy>=2.2.2 in /usr/local/lib/python3.7/dist-packages (from es_core_news_sm==2.2.5) (2.2.4)\n",
            "Requirement already satisfied: blis<0.5.0,>=0.4.0 in /usr/local/lib/python3.7/dist-packages (from spacy>=2.2.2->es_core_news_sm==2.2.5) (0.4.1)\n",
            "Requirement already satisfied: setuptools in /usr/local/lib/python3.7/dist-packages (from spacy>=2.2.2->es_core_news_sm==2.2.5) (57.0.0)\n",
            "Requirement already satisfied: catalogue<1.1.0,>=0.0.7 in /usr/local/lib/python3.7/dist-packages (from spacy>=2.2.2->es_core_news_sm==2.2.5) (1.0.0)\n",
            "Requirement already satisfied: preshed<3.1.0,>=3.0.2 in /usr/local/lib/python3.7/dist-packages (from spacy>=2.2.2->es_core_news_sm==2.2.5) (3.0.5)\n",
            "Requirement already satisfied: cymem<2.1.0,>=2.0.2 in /usr/local/lib/python3.7/dist-packages (from spacy>=2.2.2->es_core_news_sm==2.2.5) (2.0.5)\n",
            "Requirement already satisfied: numpy>=1.15.0 in /usr/local/lib/python3.7/dist-packages (from spacy>=2.2.2->es_core_news_sm==2.2.5) (1.19.5)\n",
            "Requirement already satisfied: wasabi<1.1.0,>=0.4.0 in /usr/local/lib/python3.7/dist-packages (from spacy>=2.2.2->es_core_news_sm==2.2.5) (0.8.2)\n",
            "Requirement already satisfied: srsly<1.1.0,>=1.0.2 in /usr/local/lib/python3.7/dist-packages (from spacy>=2.2.2->es_core_news_sm==2.2.5) (1.0.5)\n",
            "Requirement already satisfied: plac<1.2.0,>=0.9.6 in /usr/local/lib/python3.7/dist-packages (from spacy>=2.2.2->es_core_news_sm==2.2.5) (1.1.3)\n",
            "Requirement already satisfied: tqdm<5.0.0,>=4.38.0 in /usr/local/lib/python3.7/dist-packages (from spacy>=2.2.2->es_core_news_sm==2.2.5) (4.41.1)\n",
            "Requirement already satisfied: requests<3.0.0,>=2.13.0 in /usr/local/lib/python3.7/dist-packages (from spacy>=2.2.2->es_core_news_sm==2.2.5) (2.23.0)\n",
            "Requirement already satisfied: thinc==7.4.0 in /usr/local/lib/python3.7/dist-packages (from spacy>=2.2.2->es_core_news_sm==2.2.5) (7.4.0)\n",
            "Requirement already satisfied: murmurhash<1.1.0,>=0.28.0 in /usr/local/lib/python3.7/dist-packages (from spacy>=2.2.2->es_core_news_sm==2.2.5) (1.0.5)\n",
            "Requirement already satisfied: importlib-metadata>=0.20; python_version < \"3.8\" in /usr/local/lib/python3.7/dist-packages (from catalogue<1.1.0,>=0.0.7->spacy>=2.2.2->es_core_news_sm==2.2.5) (4.0.1)\n",
            "Requirement already satisfied: certifi>=2017.4.17 in /usr/local/lib/python3.7/dist-packages (from requests<3.0.0,>=2.13.0->spacy>=2.2.2->es_core_news_sm==2.2.5) (2020.12.5)\n",
            "Requirement already satisfied: chardet<4,>=3.0.2 in /usr/local/lib/python3.7/dist-packages (from requests<3.0.0,>=2.13.0->spacy>=2.2.2->es_core_news_sm==2.2.5) (3.0.4)\n",
            "Requirement already satisfied: urllib3!=1.25.0,!=1.25.1,<1.26,>=1.21.1 in /usr/local/lib/python3.7/dist-packages (from requests<3.0.0,>=2.13.0->spacy>=2.2.2->es_core_news_sm==2.2.5) (1.24.3)\n",
            "Requirement already satisfied: idna<3,>=2.5 in /usr/local/lib/python3.7/dist-packages (from requests<3.0.0,>=2.13.0->spacy>=2.2.2->es_core_news_sm==2.2.5) (2.10)\n",
            "Requirement already satisfied: typing-extensions>=3.6.4; python_version < \"3.8\" in /usr/local/lib/python3.7/dist-packages (from importlib-metadata>=0.20; python_version < \"3.8\"->catalogue<1.1.0,>=0.0.7->spacy>=2.2.2->es_core_news_sm==2.2.5) (3.7.4.3)\n",
            "Requirement already satisfied: zipp>=0.5 in /usr/local/lib/python3.7/dist-packages (from importlib-metadata>=0.20; python_version < \"3.8\"->catalogue<1.1.0,>=0.0.7->spacy>=2.2.2->es_core_news_sm==2.2.5) (3.4.1)\n",
            "\u001b[38;5;2m✔ Download and installation successful\u001b[0m\n",
            "You can now load the model via spacy.load('es_core_news_sm')\n",
            "Requirement already satisfied: es_core_news_md==2.2.5 from https://github.com/explosion/spacy-models/releases/download/es_core_news_md-2.2.5/es_core_news_md-2.2.5.tar.gz#egg=es_core_news_md==2.2.5 in /usr/local/lib/python3.7/dist-packages (2.2.5)\n",
            "Requirement already satisfied: spacy>=2.2.2 in /usr/local/lib/python3.7/dist-packages (from es_core_news_md==2.2.5) (2.2.4)\n",
            "Requirement already satisfied: cymem<2.1.0,>=2.0.2 in /usr/local/lib/python3.7/dist-packages (from spacy>=2.2.2->es_core_news_md==2.2.5) (2.0.5)\n",
            "Requirement already satisfied: requests<3.0.0,>=2.13.0 in /usr/local/lib/python3.7/dist-packages (from spacy>=2.2.2->es_core_news_md==2.2.5) (2.23.0)\n",
            "Requirement already satisfied: srsly<1.1.0,>=1.0.2 in /usr/local/lib/python3.7/dist-packages (from spacy>=2.2.2->es_core_news_md==2.2.5) (1.0.5)\n",
            "Requirement already satisfied: tqdm<5.0.0,>=4.38.0 in /usr/local/lib/python3.7/dist-packages (from spacy>=2.2.2->es_core_news_md==2.2.5) (4.41.1)\n",
            "Requirement already satisfied: thinc==7.4.0 in /usr/local/lib/python3.7/dist-packages (from spacy>=2.2.2->es_core_news_md==2.2.5) (7.4.0)\n",
            "Requirement already satisfied: murmurhash<1.1.0,>=0.28.0 in /usr/local/lib/python3.7/dist-packages (from spacy>=2.2.2->es_core_news_md==2.2.5) (1.0.5)\n",
            "Requirement already satisfied: catalogue<1.1.0,>=0.0.7 in /usr/local/lib/python3.7/dist-packages (from spacy>=2.2.2->es_core_news_md==2.2.5) (1.0.0)\n",
            "Requirement already satisfied: setuptools in /usr/local/lib/python3.7/dist-packages (from spacy>=2.2.2->es_core_news_md==2.2.5) (57.0.0)\n",
            "Requirement already satisfied: preshed<3.1.0,>=3.0.2 in /usr/local/lib/python3.7/dist-packages (from spacy>=2.2.2->es_core_news_md==2.2.5) (3.0.5)\n",
            "Requirement already satisfied: plac<1.2.0,>=0.9.6 in /usr/local/lib/python3.7/dist-packages (from spacy>=2.2.2->es_core_news_md==2.2.5) (1.1.3)\n",
            "Requirement already satisfied: blis<0.5.0,>=0.4.0 in /usr/local/lib/python3.7/dist-packages (from spacy>=2.2.2->es_core_news_md==2.2.5) (0.4.1)\n",
            "Requirement already satisfied: numpy>=1.15.0 in /usr/local/lib/python3.7/dist-packages (from spacy>=2.2.2->es_core_news_md==2.2.5) (1.19.5)\n",
            "Requirement already satisfied: wasabi<1.1.0,>=0.4.0 in /usr/local/lib/python3.7/dist-packages (from spacy>=2.2.2->es_core_news_md==2.2.5) (0.8.2)\n",
            "Requirement already satisfied: urllib3!=1.25.0,!=1.25.1,<1.26,>=1.21.1 in /usr/local/lib/python3.7/dist-packages (from requests<3.0.0,>=2.13.0->spacy>=2.2.2->es_core_news_md==2.2.5) (1.24.3)\n",
            "Requirement already satisfied: idna<3,>=2.5 in /usr/local/lib/python3.7/dist-packages (from requests<3.0.0,>=2.13.0->spacy>=2.2.2->es_core_news_md==2.2.5) (2.10)\n",
            "Requirement already satisfied: chardet<4,>=3.0.2 in /usr/local/lib/python3.7/dist-packages (from requests<3.0.0,>=2.13.0->spacy>=2.2.2->es_core_news_md==2.2.5) (3.0.4)\n",
            "Requirement already satisfied: certifi>=2017.4.17 in /usr/local/lib/python3.7/dist-packages (from requests<3.0.0,>=2.13.0->spacy>=2.2.2->es_core_news_md==2.2.5) (2020.12.5)\n",
            "Requirement already satisfied: importlib-metadata>=0.20; python_version < \"3.8\" in /usr/local/lib/python3.7/dist-packages (from catalogue<1.1.0,>=0.0.7->spacy>=2.2.2->es_core_news_md==2.2.5) (4.0.1)\n",
            "Requirement already satisfied: typing-extensions>=3.6.4; python_version < \"3.8\" in /usr/local/lib/python3.7/dist-packages (from importlib-metadata>=0.20; python_version < \"3.8\"->catalogue<1.1.0,>=0.0.7->spacy>=2.2.2->es_core_news_md==2.2.5) (3.7.4.3)\n",
            "Requirement already satisfied: zipp>=0.5 in /usr/local/lib/python3.7/dist-packages (from importlib-metadata>=0.20; python_version < \"3.8\"->catalogue<1.1.0,>=0.0.7->spacy>=2.2.2->es_core_news_md==2.2.5) (3.4.1)\n",
            "\u001b[38;5;2m✔ Download and installation successful\u001b[0m\n",
            "You can now load the model via spacy.load('es_core_news_md')\n"
          ],
          "name": "stdout"
        }
      ]
    },
    {
      "cell_type": "code",
      "metadata": {
        "id": "krrq_aUxFPh_"
      },
      "source": [
        "from wordcloud import WordCloud\n",
        "import matplotlib.pyplot as plt\n",
        "\n",
        "import warnings\n",
        "warnings.filterwarnings(\"ignore\")\n",
        "\n",
        "import wikipedia\n",
        "import random\n",
        "\n",
        "#spacy\n",
        "import spacy\n",
        "import es_core_news_sm\n",
        "import es_core_news_md\n",
        "nlp = es_core_news_sm.load()"
      ],
      "execution_count": 16,
      "outputs": []
    },
    {
      "cell_type": "code",
      "metadata": {
        "colab": {
          "base_uri": "https://localhost:8080/"
        },
        "id": "fUaQ3ygpFVPp",
        "outputId": "afd65129-b78c-4bf8-e7c4-b01637f641ea"
      },
      "source": [
        "wikipedia.set_lang(\"es\")\n",
        "value=input(\"Ingrese palabra: \")\n",
        "try:\n",
        "    m=wikipedia.search(value,3)\n",
        "    p=wikipedia.summary(m[0],sentences=3)\n",
        "    print(p)\n",
        "except wikipedia.exceptions.DisambiguationError as e:\n",
        "    s=random.choice(e.options)\n",
        "    p=wikipedia.summary(s,sentences=2)\n",
        "    #print(p)"
      ],
      "execution_count": 20,
      "outputs": [
        {
          "output_type": "stream",
          "text": [
            "Ingrese palabra: miss mundo\n",
            "Miss Mundo es un título de belleza femenina. También se conoce así al certamen que lo confiere y que se celebra anualmente. \n",
            "Cada concursante representa únicamente a su nación de origen y la ganadora del título lo lleva por el periodo de alrededor de un año, añadiendo a él, el año en que lo ganó.\n"
          ],
          "name": "stdout"
        }
      ]
    },
    {
      "cell_type": "code",
      "metadata": {
        "id": "zsTWVsxwFlfi"
      },
      "source": [
        "doc = nlp(p)\n",
        "#for token in doc: print(token.text, \"|\", token.lemma_, '|', token.pos_)"
      ],
      "execution_count": 21,
      "outputs": []
    },
    {
      "cell_type": "code",
      "metadata": {
        "id": "AMemTdBDHu2f",
        "colab": {
          "base_uri": "https://localhost:8080/"
        },
        "outputId": "227ae512-f627-4a2e-f6fa-0c95c6a5c7fb"
      },
      "source": [
        "for token in doc:\n",
        "  print(token.text,'->', token.pos_)"
      ],
      "execution_count": 22,
      "outputs": [
        {
          "output_type": "stream",
          "text": [
            "Miss -> PROPN\n",
            "Mundo -> PROPN\n",
            "es -> AUX\n",
            "un -> DET\n",
            "título -> NOUN\n",
            "de -> ADP\n",
            "belleza -> NOUN\n",
            "femenina -> ADJ\n",
            ". -> PUNCT\n",
            "También -> ADV\n",
            "se -> PRON\n",
            "conoce -> VERB\n",
            "así -> ADV\n",
            "al -> ADP\n",
            "certamen -> NOUN\n",
            "que -> SCONJ\n",
            "lo -> PRON\n",
            "confiere -> VERB\n",
            "y -> CONJ\n",
            "que -> SCONJ\n",
            "se -> PRON\n",
            "celebra -> VERB\n",
            "anualmente -> ADV\n",
            ". -> PUNCT\n",
            "\n",
            " -> SPACE\n",
            "Cada -> DET\n",
            "concursante -> ADJ\n",
            "representa -> VERB\n",
            "únicamente -> ADV\n",
            "a -> ADP\n",
            "su -> DET\n",
            "nación -> NOUN\n",
            "de -> ADP\n",
            "origen -> NOUN\n",
            "y -> CONJ\n",
            "la -> DET\n",
            "ganadora -> NOUN\n",
            "del -> ADP\n",
            "título -> NOUN\n",
            "lo -> PRON\n",
            "lleva -> VERB\n",
            "por -> ADP\n",
            "el -> DET\n",
            "periodo -> NOUN\n",
            "de -> ADP\n",
            "alrededor -> ADV\n",
            "de -> ADP\n",
            "un -> DET\n",
            "año -> NOUN\n",
            ", -> PUNCT\n",
            "añadiendo -> VERB\n",
            "a -> ADP\n",
            "él -> PRON\n",
            ", -> PUNCT\n",
            "el -> DET\n",
            "año -> NOUN\n",
            "en -> ADP\n",
            "que -> PRON\n",
            "lo -> PRON\n",
            "ganó -> VERB\n",
            ". -> PUNCT\n"
          ],
          "name": "stdout"
        }
      ]
    },
    {
      "cell_type": "code",
      "metadata": {
        "id": "cAEQM-aaRtDg"
      },
      "source": [
        "from spacy.matcher import Matcher\n",
        "matcher_full_name = Matcher(nlp.vocab)\n",
        "matcher_noun_propn = Matcher(nlp.vocab)\n",
        "matcher_noun_adj = Matcher(nlp.vocab)\n",
        "matcher_verb = Matcher(nlp.vocab)\n",
        "\n",
        "def full_name(nlp_doc):\n",
        "     pattern = [{'POS': 'PROPN'}, {'POS': 'PROPN'}]\n",
        "     matcher_full_name.add('FULL_NAME', None, pattern)\n",
        "     matches = matcher_full_name(nlp_doc)\n",
        "     return matches\n",
        "\n",
        "\n",
        "def noun_propn(nlp_doc):\n",
        "     pattern = [{'POS': 'NOUN'}, {'POS': 'PROPN'}]\n",
        "     matcher_noun_propn.add('NOUN_PROPN', None, pattern)\n",
        "     matches = matcher_noun_propn(nlp_doc)\n",
        "     return matches\n",
        "\n",
        "\n",
        "def noun_adj(nlp_doc):\n",
        "     pattern = [{'POS': 'NOUN'}, {'POS': 'ADJ'}]\n",
        "     matcher_noun_adj.add('NOUN_ADJ', None, pattern)\n",
        "     matches = matcher_noun_adj(nlp_doc)\n",
        "     return matches\n",
        "\n",
        "\n",
        "def verb(nlp_doc):\n",
        "     pattern = [{'POS': 'VERB'}]\n",
        "     matcher_verb.add('VERB', None, pattern)\n",
        "     matches = matcher_verb(nlp_doc)\n",
        "     return matches"
      ],
      "execution_count": 23,
      "outputs": []
    },
    {
      "cell_type": "code",
      "metadata": {
        "colab": {
          "base_uri": "https://localhost:8080/"
        },
        "id": "Yo6rwksVPFTF",
        "outputId": "c5a10a8f-5d96-4368-d336-205d52442222"
      },
      "source": [
        "con_significado = {}\n",
        "\n",
        "matches_fn = full_name(doc)\n",
        "matches_np = noun_propn(doc)\n",
        "matches_na = noun_adj(doc)\n",
        "matches_ve = verb(doc)\n",
        "\n",
        "for match_id, start, end in matches_fn:\n",
        "  span = doc[start: end]\n",
        "  con_significado[span.text] = 1\n",
        "\n",
        "for match_id, start, end in matches_np:\n",
        "  span = doc[start: end]\n",
        "  con_significado[span.text] = 2\n",
        "\n",
        "for match_id, start, end in matches_na:\n",
        "  span = doc[start: end]\n",
        "  con_significado[span.text] = 1\n",
        "\n",
        "for match_id, start, end in matches_ve:\n",
        "  span = doc[start: end]\n",
        "  con_significado[span.text] = 1\n",
        "\n",
        "con_significado"
      ],
      "execution_count": 24,
      "outputs": [
        {
          "output_type": "execute_result",
          "data": {
            "text/plain": [
              "{'Miss Mundo': 1,\n",
              " 'añadiendo': 1,\n",
              " 'belleza femenina': 1,\n",
              " 'celebra': 1,\n",
              " 'confiere': 1,\n",
              " 'conoce': 1,\n",
              " 'ganó': 1,\n",
              " 'lleva': 1,\n",
              " 'representa': 1}"
            ]
          },
          "metadata": {
            "tags": []
          },
          "execution_count": 24
        }
      ]
    },
    {
      "cell_type": "code",
      "metadata": {
        "colab": {
          "base_uri": "https://localhost:8080/",
          "height": 303
        },
        "id": "lli5PdPSf0ch",
        "outputId": "81a2b4a0-3d9e-4401-988b-252c12cfda14"
      },
      "source": [
        "#generamos la nube\n",
        "wc = WordCloud(width=1024, height=800, colormap='Blues', min_font_size=18)\n",
        "\n",
        "wc.generate_from_frequencies(con_significado)\n",
        "\n",
        "#mostramos la nube\n",
        "plt.imshow(wc,interpolation='bilinear')\n",
        "plt.axis(\"off\")\n",
        "plt.show()\n",
        "\n",
        "print(p)"
      ],
      "execution_count": 26,
      "outputs": [
        {
          "output_type": "display_data",
          "data": {
            "image/png": "[encoded data removed]",
            "text/plain": [
              "<Figure size 432x288 with 1 Axes>"
            ]
          },
          "metadata": {
            "tags": [],
            "needs_background": "light"
          }
        },
        {
          "output_type": "stream",
          "text": [
            "Miss Mundo es un título de belleza femenina. También se conoce así al certamen que lo confiere y que se celebra anualmente. \n",
            "Cada concursante representa únicamente a su nación de origen y la ganadora del título lo lleva por el periodo de alrededor de un año, añadiendo a él, el año en que lo ganó.\n"
          ],
          "name": "stdout"
        }
      ]
    }
  ]
}